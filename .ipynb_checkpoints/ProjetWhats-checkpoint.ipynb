{
 "cells": [
  {
   "cell_type": "markdown",
   "id": "e3ca361b",
   "metadata": {},
   "source": [
    "Projeto whatsapp"
   ]
  },
  {
   "cell_type": "code",
   "execution_count": 1,
   "id": "b9ca99b1",
   "metadata": {},
   "outputs": [
    {
     "name": "stdout",
     "output_type": "stream",
     "text": [
      "In 2 Seconds WhatsApp will open and after 15 Seconds Message will be Delivered!\n",
      "mensagem enviada para clayton\n",
      "In 42 Seconds WhatsApp will open and after 15 Seconds Message will be Delivered!\n",
      "mensagem enviada para marina\n"
     ]
    }
   ],
   "source": [
    "import datetime as dt\n",
    "import pywhatkit as kit\n",
    "import pandas as pd\n",
    "import time\n",
    "\n",
    "contatos = pd.read_excel(\"clientes.xlsx\")\n",
    "\n",
    "#pegando data\n",
    "dia = dt.datetime.now()\n",
    "\n",
    "data_formated = f'{dia.day}'\n",
    "\n",
    "\n",
    "for i,mensagem in enumerate(contatos['mensagem']):\n",
    "    \n",
    "    cliente = contatos.loc[i,'Cliente']\n",
    "    telefone = contatos.loc[i,'telefone']\n",
    "    mensagem = contatos.loc[i,'mensagem']\n",
    "    data = str(contatos.loc[i,'data'])\n",
    "    \n",
    "    #formatando dia\n",
    "    data_format = data.split(\" \")\n",
    "    day_formated = data_format[0].split(\"-\")\n",
    "    \n",
    "    \n",
    "    if day_formated[2] == data_formated:\n",
    "        \n",
    "        #mensagem de texto\n",
    "        msg = f'Oii {cliente} {mensagem}'\n",
    "\n",
    "\n",
    "        #hora\n",
    "        horario = dt.datetime.now()\n",
    "        hora = int(horario.hour)\n",
    "        minutos = int(horario.minute+1)\n",
    "\n",
    "        #enviando msg\n",
    "        kit.sendwhatmsg('+'+str(telefone),msg,hora, minutos)\n",
    "        \n",
    "        time.sleep(3)\n",
    "        print(f\"mensagem enviada para {cliente}\")\n",
    "        \n",
    "    "
   ]
  },
  {
   "cell_type": "code",
   "execution_count": null,
   "id": "cad184b2",
   "metadata": {},
   "outputs": [],
   "source": []
  }
 ],
 "metadata": {
  "kernelspec": {
   "display_name": "Python 3 (ipykernel)",
   "language": "python",
   "name": "python3"
  },
  "language_info": {
   "codemirror_mode": {
    "name": "ipython",
    "version": 3
   },
   "file_extension": ".py",
   "mimetype": "text/x-python",
   "name": "python",
   "nbconvert_exporter": "python",
   "pygments_lexer": "ipython3",
   "version": "3.9.7"
  }
 },
 "nbformat": 4,
 "nbformat_minor": 5
}
